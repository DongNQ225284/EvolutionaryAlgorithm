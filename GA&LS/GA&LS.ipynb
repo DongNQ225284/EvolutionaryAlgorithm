{
 "cells": [
  {
   "cell_type": "code",
   "execution_count": 1,
   "metadata": {},
   "outputs": [],
   "source": [
    "import numpy as np # type: ignore\n",
    "import random\n",
    "import copy\n",
    "import matplotlib.pyplot as plt # type: ignore"
   ]
  },
  {
   "cell_type": "code",
   "execution_count": 2,
   "metadata": {},
   "outputs": [],
   "source": [
    "class Problem:\n",
    "    def __init__(self):\n",
    "        pass\n"
   ]
  },
  {
   "cell_type": "code",
   "execution_count": 3,
   "metadata": {},
   "outputs": [],
   "source": [
    "def decode(chromosome, problem: Problem):\n",
    "    pass\n",
    "\n",
    "def get_fitness(x):\n",
    "    pass"
   ]
  },
  {
   "cell_type": "code",
   "execution_count": 4,
   "metadata": {},
   "outputs": [],
   "source": [
    "class Individual:\n",
    "    def __init__(self):\n",
    "        self.chromosome = None\n",
    "        self.fitness = None\n",
    "        self.velocity = None\n",
    "        self.bestFitness = None\n",
    "        self.bestPosition = None\n",
    "\n",
    "    def genIndi(self, problem : Problem):\n",
    "        self.chromosome\n",
    "        # pass\n",
    "    \n",
    "    def cal_fitness(self, problem):\n",
    "        self.fitness = get_fitness(self.chromosome)\n",
    "    \n",
    "    def clone(self):\n",
    "        return copy.deepcopy(self)\n",
    "    \n",
    "    def __repr__(self):\n",
    "        return f\"chromosome={self.chromosome}, fitness={self.fitness}\" \n"
   ]
  },
  {
   "cell_type": "code",
   "execution_count": 5,
   "metadata": {},
   "outputs": [],
   "source": [
    "def neighbors(indi, delta, problem):\n",
    "    list_indi = []\n",
    "    for i in len(indi.chromosome):\n",
    "        neighbor = Individual()\n",
    "        neighbor.chromosome = indi.chromosome[i] - delta\n",
    "        neighbor.cal_fitness(problem)\n",
    "        list_indi.append(neighbor)\n",
    "    \n",
    "    for i in len(indi.chromosome):\n",
    "        neighbor = Individual()\n",
    "        neighbor.chromosome = indi.chromosome[i] + delta\n",
    "        neighbor.cal_fitness(problem)\n",
    "        list_indi.append(neighbor)\n",
    "\n",
    "    return list_indi"
   ]
  },
  {
   "cell_type": "code",
   "execution_count": 6,
   "metadata": {},
   "outputs": [],
   "source": [
    "def select(list_indi):\n",
    "    return max(list_indi, key=lambda indi: indi.fitness)"
   ]
  },
  {
   "cell_type": "code",
   "execution_count": 7,
   "metadata": {},
   "outputs": [],
   "source": [
    "# Simulated binary crossover - SBX\n",
    "def crossover(parent1, parent2, problem : Problem, eta = 2.0):\n",
    "    off1 = Individual()\n",
    "    off2 = Individual()\n",
    "    r = np.random.rand()\n",
    "    if (r <= 0.5):\n",
    "        beta = (2*r)**(1.0/(eta + 1))\n",
    "    else:\n",
    "        beta = (1.0/(2*(1 - r)))**(1.0/(eta + 1))\n",
    "    p1 = parent1.chromosome\n",
    "    p2 = parent2.chromosome\n",
    "    c1 = 0.5 * ((1 + beta) * p1 + (1 - beta) * p2)\n",
    "    c2 = 0.5 * ((1 - beta) * p1 + (1 + beta) * p2)\n",
    "    c1 = np.clip(c1, 0.0, 1.0)\n",
    "    c2 = np.clip(c2, 0.0, 1.0)\n",
    "    off1.chromosome = c1\n",
    "    off2.chromosome = c2\n",
    "    return off1.clone(), off2.clone()"
   ]
  },
  {
   "cell_type": "code",
   "execution_count": 8,
   "metadata": {},
   "outputs": [],
   "source": [
    "# Polynomial mutaion - PM\n",
    "def mutation(indi, eta = 20.0):\n",
    "    chr = indi.chromosome\n",
    "    for i in range(chr.size):\n",
    "        mu = np.random.rand()\n",
    "        if (mu <= 0.5):\n",
    "            delta = (2 * mu)**(1.0/(1 + eta)) - 1\n",
    "            chr[i] = chr[i] + delta * chr[i]\n",
    "        else:\n",
    "            delta = 1 - (2 - 2*mu)**(1.0/(1 + eta))\n",
    "            chr[i] = chr[i] + delta * (1 - chr[i])\n",
    "            \n",
    "    chr = np.clip(chr, 0.0, 1.0)\n",
    "    indi.chromosome = chr\n",
    "    return indi.clone()"
   ]
  },
  {
   "cell_type": "code",
   "execution_count": 9,
   "metadata": {},
   "outputs": [],
   "source": [
    "class Population:\n",
    "    def __init__(self, pop_size, problem : Problem):\n",
    "        self.pop_size = pop_size\n",
    "        self.list_indi = []\n",
    "        self.problem = problem\n",
    "    \n",
    "    def genPop(self):\n",
    "        for i in range(self.pop_size):\n",
    "            indi = Individual()\n",
    "            indi.genIndi(self.problem)\n",
    "            indi.cal_fitness(self.problem)\n",
    "            self.list_indi.append(indi)\n",
    "\n",
    "    def show(self):\n",
    "        for indi in self.list_indi:\n",
    "            print(indi)"
   ]
  },
  {
   "cell_type": "code",
   "execution_count": 10,
   "metadata": {},
   "outputs": [],
   "source": [
    "def selection(list, k = 2):\n",
    "    tour1 = random.sample(list, k)\n",
    "    tour2 = random.sample(list, k)\n",
    "    x = max(tour1, key=lambda indi: indi.fitness)\n",
    "    y = max(tour2, key=lambda indi: indi.fitness)\n",
    "    return x.clone(), y.clone()"
   ]
  },
  {
   "cell_type": "code",
   "execution_count": 11,
   "metadata": {},
   "outputs": [],
   "source": [
    "def survival_selection(list, pop_size):\n",
    "    list = sorted(list, key=lambda indi: indi.fitness, reverse=True)\n",
    "    list = list[0: pop_size]\n",
    "    return list"
   ]
  },
  {
   "cell_type": "code",
   "execution_count": 12,
   "metadata": {},
   "outputs": [],
   "source": [
    "def GA_LS(problem, pop_size, max_gen, p_c, p_m, delta):\n",
    "    pop = Population(pop_size, problem)\n",
    "    pop.genPop()\n",
    "    history = []\n",
    "    for i in range(max_gen):\n",
    "        child = []\n",
    "        while (len(child) < pop_size):\n",
    "            p1, p2 = selection(pop.list_indi)\n",
    "            if np.random.rand() <= p_c:\n",
    "                c1, c2 = crossover(p1, p2, problem)\n",
    "                c1.cal_fitness(problem)\n",
    "                c2.cal_fitness(problem)\n",
    "                child.append(c1)\n",
    "                child.append(c2)\n",
    "            if np.random.rand() <= p_m:\n",
    "                p1 = mutation(p1)\n",
    "                p2 = mutation(p2)\n",
    "                p1.cal_fitness(problem)\n",
    "                p2.cal_fitness(problem)\n",
    "                child.append(p1)\n",
    "                child.append(p2)\n",
    "        pop.list_indi = survival_selection(pop.list_indi + child, pop_size)\n",
    "        history.append(pop.list_indi[0].fitness)\n",
    "    pop.show()\n",
    "    best = Individual()\n",
    "    for i in range(max_gen):\n",
    "        for indi in pop.list_indi:\n",
    "            list_indi = neighbors(indi, delta, problem)\n",
    "            indi = select(list_indi)\n",
    "        best = max(pop.list_indi, key=lambda indi: indi.fitness)\n",
    "        history.append(best.fitness)\n",
    "    return history, best\n"
   ]
  },
  {
   "cell_type": "code",
   "execution_count": 13,
   "metadata": {},
   "outputs": [
    {
     "ename": "TypeError",
     "evalue": "'>' not supported between instances of 'NoneType' and 'NoneType'",
     "output_type": "error",
     "traceback": [
      "\u001b[1;31m---------------------------------------------------------------------------\u001b[0m",
      "\u001b[1;31mTypeError\u001b[0m                                 Traceback (most recent call last)",
      "Cell \u001b[1;32mIn[13], line 10\u001b[0m\n\u001b[0;32m      8\u001b[0m delta \u001b[38;5;241m=\u001b[39m \u001b[38;5;241m0.05\u001b[39m\n\u001b[0;32m      9\u001b[0m \u001b[38;5;66;03m# start\u001b[39;00m\n\u001b[1;32m---> 10\u001b[0m fitness_history, solution \u001b[38;5;241m=\u001b[39m \u001b[43mGA_LS\u001b[49m\u001b[43m(\u001b[49m\u001b[43mproblem\u001b[49m\u001b[43m,\u001b[49m\u001b[43m \u001b[49m\u001b[43mpop_size\u001b[49m\u001b[43m,\u001b[49m\u001b[43m \u001b[49m\u001b[43mmax_gen\u001b[49m\u001b[43m,\u001b[49m\u001b[43m \u001b[49m\u001b[43mPc\u001b[49m\u001b[43m,\u001b[49m\u001b[43m \u001b[49m\u001b[43mPm\u001b[49m\u001b[43m,\u001b[49m\u001b[43m \u001b[49m\u001b[43mdelta\u001b[49m\u001b[43m)\u001b[49m\n\u001b[0;32m     12\u001b[0m \u001b[38;5;66;03m#show\u001b[39;00m\n\u001b[0;32m     13\u001b[0m \u001b[38;5;28;01mfor\u001b[39;00m i \u001b[38;5;129;01min\u001b[39;00m \u001b[38;5;28mrange\u001b[39m(\u001b[38;5;28mlen\u001b[39m(fitness_history)):\n",
      "Cell \u001b[1;32mIn[12], line 8\u001b[0m, in \u001b[0;36mGA_LS\u001b[1;34m(problem, pop_size, max_gen, p_c, p_m, delta)\u001b[0m\n\u001b[0;32m      6\u001b[0m child \u001b[38;5;241m=\u001b[39m []\n\u001b[0;32m      7\u001b[0m \u001b[38;5;28;01mwhile\u001b[39;00m (\u001b[38;5;28mlen\u001b[39m(child) \u001b[38;5;241m<\u001b[39m pop_size):\n\u001b[1;32m----> 8\u001b[0m     p1, p2 \u001b[38;5;241m=\u001b[39m \u001b[43mselection\u001b[49m\u001b[43m(\u001b[49m\u001b[43mpop\u001b[49m\u001b[38;5;241;43m.\u001b[39;49m\u001b[43mlist_indi\u001b[49m\u001b[43m)\u001b[49m\n\u001b[0;32m      9\u001b[0m     \u001b[38;5;28;01mif\u001b[39;00m np\u001b[38;5;241m.\u001b[39mrandom\u001b[38;5;241m.\u001b[39mrand() \u001b[38;5;241m<\u001b[39m\u001b[38;5;241m=\u001b[39m p_c:\n\u001b[0;32m     10\u001b[0m         c1, c2 \u001b[38;5;241m=\u001b[39m crossover(p1, p2, problem)\n",
      "Cell \u001b[1;32mIn[10], line 4\u001b[0m, in \u001b[0;36mselection\u001b[1;34m(list, k)\u001b[0m\n\u001b[0;32m      2\u001b[0m tour1 \u001b[38;5;241m=\u001b[39m random\u001b[38;5;241m.\u001b[39msample(\u001b[38;5;28mlist\u001b[39m, k)\n\u001b[0;32m      3\u001b[0m tour2 \u001b[38;5;241m=\u001b[39m random\u001b[38;5;241m.\u001b[39msample(\u001b[38;5;28mlist\u001b[39m, k)\n\u001b[1;32m----> 4\u001b[0m x \u001b[38;5;241m=\u001b[39m \u001b[38;5;28;43mmax\u001b[39;49m\u001b[43m(\u001b[49m\u001b[43mtour1\u001b[49m\u001b[43m,\u001b[49m\u001b[43m \u001b[49m\u001b[43mkey\u001b[49m\u001b[38;5;241;43m=\u001b[39;49m\u001b[38;5;28;43;01mlambda\u001b[39;49;00m\u001b[43m \u001b[49m\u001b[43mindi\u001b[49m\u001b[43m:\u001b[49m\u001b[43m \u001b[49m\u001b[43mindi\u001b[49m\u001b[38;5;241;43m.\u001b[39;49m\u001b[43mfitness\u001b[49m\u001b[43m)\u001b[49m\n\u001b[0;32m      5\u001b[0m y \u001b[38;5;241m=\u001b[39m \u001b[38;5;28mmax\u001b[39m(tour2, key\u001b[38;5;241m=\u001b[39m\u001b[38;5;28;01mlambda\u001b[39;00m indi: indi\u001b[38;5;241m.\u001b[39mfitness)\n\u001b[0;32m      6\u001b[0m \u001b[38;5;28;01mreturn\u001b[39;00m x\u001b[38;5;241m.\u001b[39mclone(), y\u001b[38;5;241m.\u001b[39mclone()\n",
      "\u001b[1;31mTypeError\u001b[0m: '>' not supported between instances of 'NoneType' and 'NoneType'"
     ]
    }
   ],
   "source": [
    "# setup\n",
    "problem = Problem()\n",
    "\n",
    "pop_size = 200\n",
    "max_gen = 2000\n",
    "Pc = 0.9\n",
    "Pm = 0.2\n",
    "delta = 0.05\n",
    "# start\n",
    "fitness_history, solution = GA_LS(problem, pop_size, max_gen, Pc, Pm, delta)\n",
    "\n",
    "#show\n",
    "for i in range(len(fitness_history)):\n",
    "    print(f\"Generation {i}, bestfitness = {fitness_history[i]:.2f}\")\n"
   ]
  },
  {
   "cell_type": "code",
   "execution_count": null,
   "metadata": {},
   "outputs": [],
   "source": [
    "#show\n",
    "np.set_printoptions(precision=2, suppress=True)\n",
    "print(\"solution:\")\n",
    "print(decode(solution.chromosome, problem))\n",
    "print(f\"{solution.fitness:.2f}\")"
   ]
  },
  {
   "cell_type": "code",
   "execution_count": null,
   "metadata": {},
   "outputs": [],
   "source": [
    "generations = list(range(len(fitness_history)))\n",
    "plt.figure(figsize=(10, 5))\n",
    "plt.plot(generations, fitness_history, marker='o', linestyle='-', color='b', label='Best Fitness')\n",
    "\n",
    "plt.xlabel(\"Generation\")\n",
    "plt.ylabel(\"Best Fitness\")\n",
    "plt.title(\"Fitness Progress Over Generations\")\n",
    "plt.legend()\n",
    "plt.grid(True)\n",
    "plt.show()"
   ]
  },
  {
   "cell_type": "markdown",
   "metadata": {},
   "source": []
  }
 ],
 "metadata": {
  "kernelspec": {
   "display_name": "Python 3",
   "language": "python",
   "name": "python3"
  },
  "language_info": {
   "codemirror_mode": {
    "name": "ipython",
    "version": 3
   },
   "file_extension": ".py",
   "mimetype": "text/x-python",
   "name": "python",
   "nbconvert_exporter": "python",
   "pygments_lexer": "ipython3",
   "version": "3.10.11"
  }
 },
 "nbformat": 4,
 "nbformat_minor": 2
}
