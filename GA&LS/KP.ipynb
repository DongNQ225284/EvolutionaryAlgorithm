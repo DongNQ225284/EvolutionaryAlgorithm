{
 "cells": [
  {
   "cell_type": "code",
   "execution_count": 124,
   "metadata": {},
   "outputs": [],
   "source": [
    "import numpy as np # type: ignore\n",
    "import random\n",
    "import copy\n",
    "import matplotlib.pyplot as plt # type: ignore"
   ]
  },
  {
   "cell_type": "code",
   "execution_count": 125,
   "metadata": {},
   "outputs": [],
   "source": [
    "class Problem:\n",
    "    def __init__(self, profit, weight, capacity):\n",
    "        self.profit = profit\n",
    "        self.weight = weight\n",
    "        self.capacity = capacity"
   ]
  },
  {
   "cell_type": "code",
   "execution_count": 126,
   "metadata": {},
   "outputs": [],
   "source": [
    "def decode(chromosome):\n",
    "    chr = chromosome.tolist()\n",
    "    return np.array([0 if gen < 0.5 else 1 for gen in chr])\n",
    "\n",
    "def get_fitness(chromosome, problem : Problem):\n",
    "    solution = decode(chromosome)\n",
    "    total_profit = np.sum(solution * problem.profit)\n",
    "    total_weight = np.sum(solution * problem.weight)\n",
    "    if total_weight > problem.capacity:\n",
    "        return 0\n",
    "    else:\n",
    "        return total_profit\n",
    "    "
   ]
  },
  {
   "cell_type": "code",
   "execution_count": 127,
   "metadata": {},
   "outputs": [],
   "source": [
    "class Individual:\n",
    "    def __init__(self):\n",
    "        self.chromosome = None\n",
    "        self.fitness = None\n",
    "        self.velocity = None\n",
    "        self.bestFitness = None\n",
    "        self.bestPosition = None\n",
    "\n",
    "    def genIndi(self, problem : Problem):\n",
    "        num_item = problem.profit.size\n",
    "        self.chromosome = np.random.uniform(0.0, 1.0, num_item)\n",
    "    \n",
    "    def cal_fitness(self, problem):\n",
    "        self.fitness = get_fitness(self.chromosome, problem)\n",
    "    \n",
    "    def clone(self):\n",
    "        return copy.deepcopy(self)\n",
    "    \n",
    "    def __repr__(self):\n",
    "        return f\"chromosome={self.chromosome}, fitness={self.fitness}\" \n"
   ]
  },
  {
   "cell_type": "code",
   "execution_count": 128,
   "metadata": {},
   "outputs": [],
   "source": [
    "def neighbors(indi, delta):\n",
    "    list_indi = []\n",
    "    neighbor = indi\n",
    "    for i in range(len(indi.chromosome)):\n",
    "        neighbor.chromosome[i] -= delta\n",
    "        list_indi.append(neighbor.clone())\n",
    "        neighbor.chromosome[i] += delta\n",
    "    \n",
    "    for i in range(len(indi.chromosome)):\n",
    "        neighbor.chromosome[i] += delta\n",
    "        list_indi.append(neighbor.clone())\n",
    "        neighbor.chromosome[i] -= delta\n",
    "    \n",
    "    return list_indi"
   ]
  },
  {
   "cell_type": "code",
   "execution_count": 129,
   "metadata": {},
   "outputs": [],
   "source": [
    "def select(list_indi, problem):\n",
    "    for indi in list_indi:\n",
    "        indi.cal_fitness(problem)\n",
    "    return max(list_indi, key=lambda indi: indi.fitness)"
   ]
  },
  {
   "cell_type": "code",
   "execution_count": 130,
   "metadata": {},
   "outputs": [],
   "source": [
    "# Simulated binary crossover - SBX\n",
    "def crossover(parent1, parent2, problem : Problem, eta = 2.0):\n",
    "    off1 = Individual()\n",
    "    off2 = Individual()\n",
    "    r = np.random.rand()\n",
    "    if (r <= 0.5):\n",
    "        beta = (2*r)**(1.0/(eta + 1))\n",
    "    else:\n",
    "        beta = (1.0/(2*(1 - r)))**(1.0/(eta + 1))\n",
    "    p1 = parent1.chromosome\n",
    "    p2 = parent2.chromosome\n",
    "    c1 = 0.5 * ((1 + beta) * p1 + (1 - beta) * p2)\n",
    "    c2 = 0.5 * ((1 - beta) * p1 + (1 + beta) * p2)\n",
    "    c1 = np.clip(c1, 0.0, 1.0)\n",
    "    c2 = np.clip(c2, 0.0, 1.0)\n",
    "    off1.chromosome = c1\n",
    "    off2.chromosome = c2\n",
    "    return off1.clone(), off2.clone()"
   ]
  },
  {
   "cell_type": "code",
   "execution_count": 131,
   "metadata": {},
   "outputs": [],
   "source": [
    "# Polynomial mutaion - PM\n",
    "def mutation(indi, eta = 20.0):\n",
    "    chr = indi.chromosome\n",
    "    for i in range(chr.size):\n",
    "        mu = np.random.rand()\n",
    "        if (mu <= 0.5):\n",
    "            delta = (2 * mu)**(1.0/(1 + eta)) - 1\n",
    "            chr[i] = chr[i] + delta * chr[i]\n",
    "        else:\n",
    "            delta = 1 - (2 - 2*mu)**(1.0/(1 + eta))\n",
    "            chr[i] = chr[i] + delta * (1 - chr[i])\n",
    "            \n",
    "    chr = np.clip(chr, 0.0, 1.0)\n",
    "    indi.chromosome = chr\n",
    "    return indi.clone()"
   ]
  },
  {
   "cell_type": "code",
   "execution_count": 132,
   "metadata": {},
   "outputs": [],
   "source": [
    "class Population:\n",
    "    def __init__(self, pop_size, problem : Problem):\n",
    "        self.pop_size = pop_size\n",
    "        self.list_indi = []\n",
    "        self.problem = problem\n",
    "    \n",
    "    def genPop(self):\n",
    "        for i in range(self.pop_size):\n",
    "            indi = Individual()\n",
    "            indi.genIndi(self.problem)\n",
    "            indi.cal_fitness(self.problem)\n",
    "            self.list_indi.append(indi)\n",
    "\n",
    "    def show(self):\n",
    "        for indi in self.list_indi:\n",
    "            print(indi)"
   ]
  },
  {
   "cell_type": "code",
   "execution_count": 133,
   "metadata": {},
   "outputs": [],
   "source": [
    "def selection(list, k = 2):\n",
    "    tour1 = random.sample(list, k)\n",
    "    tour2 = random.sample(list, k)\n",
    "    x = max(tour1, key=lambda indi: indi.fitness)\n",
    "    y = max(tour2, key=lambda indi: indi.fitness)\n",
    "    return x.clone(), y.clone()"
   ]
  },
  {
   "cell_type": "code",
   "execution_count": 134,
   "metadata": {},
   "outputs": [],
   "source": [
    "def survival_selection(list, pop_size):\n",
    "    list = sorted(list, key=lambda indi: indi.fitness, reverse=True)\n",
    "    list = list[0: pop_size]\n",
    "    return list"
   ]
  },
  {
   "cell_type": "code",
   "execution_count": 135,
   "metadata": {},
   "outputs": [],
   "source": [
    "def GA_LS(problem, pop_size, max_gen, p_c, p_m, delta):\n",
    "    pop = Population(pop_size, problem)\n",
    "    pop.genPop()\n",
    "    history = []\n",
    "    for i in range(max_gen):\n",
    "        child = []\n",
    "        while (len(child) < pop_size):\n",
    "            p1, p2 = selection(pop.list_indi)\n",
    "            if np.random.rand() <= p_c:\n",
    "                c1, c2 = crossover(p1, p2, problem)\n",
    "                c1.cal_fitness(problem)\n",
    "                c2.cal_fitness(problem)\n",
    "                child.append(c1)\n",
    "                child.append(c2)\n",
    "            if np.random.rand() <= p_m:\n",
    "                p1 = mutation(p1)\n",
    "                p2 = mutation(p2)\n",
    "                p1.cal_fitness(problem)\n",
    "                p2.cal_fitness(problem)\n",
    "                child.append(p1)\n",
    "                child.append(p2)\n",
    "        pop.list_indi = survival_selection(pop.list_indi + child, pop_size)\n",
    "        history.append(pop.list_indi[0].fitness)\n",
    "    print(f\"GA: Best fitness {history[-1]}\")\n",
    "    best = Individual()\n",
    "    for i in range(max_gen):\n",
    "        best = max(pop.list_indi, key=lambda indi: indi.fitness)\n",
    "        history.append(best.fitness)\n",
    "        for i in range(len(pop.list_indi)):\n",
    "            list_indi = neighbors(pop.list_indi[i], delta)\n",
    "            pop.list_indi[i] = select(list_indi, problem)  \n",
    "    print(f\"LS: Best fitness {history[-1]}\")    \n",
    "    return history, best\n"
   ]
  },
  {
   "cell_type": "code",
   "execution_count": 136,
   "metadata": {},
   "outputs": [],
   "source": [
    "def KP(problem : Problem):\n",
    "    profit = problem.profit\n",
    "    weight = problem.weight\n",
    "    capacity = problem.capacity\n",
    "    precision = 100  # Hệ số xấp xỉ: càng lớn thì càng chính xác, nhưng tốn RAM/CPU hơn\n",
    "    n = len(profit)\n",
    "\n",
    "    # Chuyển trọng lượng và capacity sang số nguyên\n",
    "    int_weight = [int(w * precision) for w in weight]\n",
    "    int_capacity = int(capacity * precision)\n",
    "\n",
    "    # Tạo bảng DP\n",
    "    dp = [[0.0 for _ in range(int_capacity + 1)] for _ in range(n + 1)]\n",
    "\n",
    "    # Quy hoạch động\n",
    "    for i in range(1, n + 1):\n",
    "        for w in range(int_capacity + 1):\n",
    "            if int_weight[i - 1] <= w:\n",
    "                dp[i][w] = max(profit[i - 1] + dp[i - 1][w - int_weight[i - 1]], dp[i - 1][w])\n",
    "            else:\n",
    "                dp[i][w] = dp[i - 1][w]\n",
    "\n",
    "    return dp[n][int_capacity]"
   ]
  },
  {
   "cell_type": "code",
   "execution_count": 137,
   "metadata": {},
   "outputs": [
    {
     "name": "stdout",
     "output_type": "stream",
     "text": [
      "GA: Best fitness 0\n",
      "LS: Best fitness 76.28694018523848\n"
     ]
    }
   ],
   "source": [
    "# setup\n",
    "profit = np.random.uniform(5.0, 20.0, 20)\n",
    "weight = np.random.uniform(2.0, 20.0, 20)\n",
    "capacity = np.random.uniform(0.0, np.sum(weight))\n",
    "# profit = np.array([3, 6, 8, 10, 15])\n",
    "# weight = np.array([2, 3, 3, 5, 8])\n",
    "# capacity = 10\n",
    "problem = Problem(profit, weight, capacity)\n",
    "\n",
    "pop_size = 10\n",
    "max_gen = 100\n",
    "Pc = 0.9\n",
    "Pm = 0.2\n",
    "delta = 0.05\n",
    "# start\n",
    "fitness_history, solution = GA_LS(problem, pop_size, max_gen, Pc, Pm, delta)\n",
    "\n",
    "#show\n",
    "# for i in range(len(fitness_history)):\n",
    "#     print(f\"Generation {i}, bestfitness = {fitness_history[i]:.2f}\")\n"
   ]
  },
  {
   "cell_type": "code",
   "execution_count": 138,
   "metadata": {},
   "outputs": [
    {
     "name": "stdout",
     "output_type": "stream",
     "text": [
      "solution:\n",
      "[0 0 0 0 0 1 1 0 0 1 0 0 0 1 1 0 0 0 0 0]\n",
      "76.29\n"
     ]
    }
   ],
   "source": [
    "#show\n",
    "np.set_printoptions(precision=2, suppress=True)\n",
    "print(\"solution:\")\n",
    "print(decode(solution.chromosome))\n",
    "print(f\"{solution.fitness:.2f}\")"
   ]
  },
  {
   "cell_type": "code",
   "execution_count": 139,
   "metadata": {},
   "outputs": [
    {
     "name": "stdout",
     "output_type": "stream",
     "text": [
      "109.26514251982647\n"
     ]
    }
   ],
   "source": [
    "print(KP(problem))"
   ]
  },
  {
   "cell_type": "code",
   "execution_count": 140,
   "metadata": {},
   "outputs": [
    {
     "data": {
      "image/png": "[encoded data removed]",
      "text/plain": [
       "<Figure size 1000x500 with 1 Axes>"
      ]
     },
     "metadata": {},
     "output_type": "display_data"
    }
   ],
   "source": [
    "generations = list(range(len(fitness_history)))\n",
    "plt.figure(figsize=(10, 5))\n",
    "plt.plot(generations, fitness_history, marker='o', linestyle='-', color='b', label='Best Fitness')\n",
    "\n",
    "plt.xlabel(\"Generation\")\n",
    "plt.ylabel(\"Best Fitness\")\n",
    "plt.title(\"Fitness Progress Over Generations\")\n",
    "plt.legend()\n",
    "plt.grid(True)\n",
    "plt.show()"
   ]
  },
  {
   "cell_type": "markdown",
   "metadata": {},
   "source": []
  }
 ],
 "metadata": {
  "kernelspec": {
   "display_name": "Python 3",
   "language": "python",
   "name": "python3"
  },
  "language_info": {
   "codemirror_mode": {
    "name": "ipython",
    "version": 3
   },
   "file_extension": ".py",
   "mimetype": "text/x-python",
   "name": "python",
   "nbconvert_exporter": "python",
   "pygments_lexer": "ipython3",
   "version": "3.13.2"
  }
 },
 "nbformat": 4,
 "nbformat_minor": 2
}
