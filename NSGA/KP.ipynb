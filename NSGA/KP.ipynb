{
 "cells": [
  {
   "cell_type": "code",
   "execution_count": 1,
   "metadata": {},
   "outputs": [],
   "source": [
    "import numpy as np # type: ignore\n",
    "import random\n",
    "import copy\n",
    "import matplotlib.pyplot as plt  # type: ignore"
   ]
  },
  {
   "cell_type": "code",
   "execution_count": 2,
   "metadata": {},
   "outputs": [],
   "source": [
    "class Problem:\n",
    "    def __init__(self, profit, times, weight, capacity):\n",
    "        self.profit = profit\n",
    "        self.times = times\n",
    "        self.weight = weight\n",
    "        self.capacity = capacity\n",
    "    "
   ]
  },
  {
   "cell_type": "code",
   "execution_count": 3,
   "metadata": {},
   "outputs": [],
   "source": [
    "def decode(chromosome):\n",
    "    chr = chromosome.tolist()\n",
    "    return [0.5 if gene < 0.5 else 1 for gene in chr]\n",
    "\n",
    "def get_fitness(chromosome, problem : Problem):\n",
    "    solution = decode(chromosome)\n",
    "    total_profit = np.sum(solution * problem.profit)\n",
    "    total_times = np.sum(solution * problem.times)\n",
    "    total_weight = np.sum(solution * problem.weight)\n",
    "\n",
    "    if total_weight > problem.capacity:\n",
    "        return [1e9, 1e9]\n",
    "    else:\n",
    "        return [-total_profit, -total_times]"
   ]
  },
  {
   "cell_type": "code",
   "execution_count": 4,
   "metadata": {},
   "outputs": [],
   "source": [
    "class Individual:\n",
    "    def __init__(self):\n",
    "        self.chromosome = None\n",
    "        self.fitness = None\n",
    "\n",
    "    def gen_indi(self, problem : Problem):\n",
    "        num_item = problem.profit.size\n",
    "        self.chromosome = np.random.uniform(0.0, 1.0, num_item)\n",
    "    \n",
    "    def cal_fitness(self, problem):\n",
    "        self.fitness = get_fitness(self.chromosome, problem)\n",
    "\n",
    "    def clone(self):\n",
    "        return copy.deepcopy(self)\n",
    "    \n",
    "    def __lt__(self, other):\n",
    "        return np.all(self.fitness <= other.fitness) and np.any(self.fitness < other.fitness)\n",
    "    \n",
    "    def __eq__(self, other):\n",
    "        return np.all(decode(self.chromosome) == decode(other.chromosome))\n",
    "    \n",
    "    def __hash__(self):\n",
    "        return hash(tuple(decode(self.chromosome)))\n",
    "    \n",
    "    def __repr__(self):\n",
    "        return f\"chromosome={self.chromosome}, fitness={self.fitness}\" \n"
   ]
  },
  {
   "cell_type": "code",
   "execution_count": 5,
   "metadata": {},
   "outputs": [
    {
     "name": "stdout",
     "output_type": "stream",
     "text": [
      "[chromosome=[0 2 3], fitness=None, chromosome=[1 2 3], fitness=None]\n"
     ]
    }
   ],
   "source": [
    "a = Individual()\n",
    "b = Individual()\n",
    "c = Individual()\n",
    "\n",
    "a.chromosome = np.array([1, 2, 3])\n",
    "b.chromosome = np.array([1, 2, 3])\n",
    "c.chromosome = np.array([0, 2, 3])\n",
    "\n",
    "arr = list(set([a, b, c]))\n",
    "\n",
    "print(arr)\n",
    "\n"
   ]
  },
  {
   "cell_type": "code",
   "execution_count": 6,
   "metadata": {},
   "outputs": [],
   "source": [
    "# Simulated binary crossover - SBX\n",
    "def crossover(parent1, parent2, problem : Problem, eta = 2.0):\n",
    "    off1 = Individual()\n",
    "    off2 = Individual()\n",
    "    r = np.random.rand()\n",
    "    if (r <= 0.5):\n",
    "        beta = (2*r)**(1.0/(eta + 1))\n",
    "    else:\n",
    "        beta = (1.0/(2*(1 - r)))**(1.0/(eta + 1))\n",
    "    p1 = parent1.chromosome\n",
    "    p2 = parent2.chromosome\n",
    "    c1 = 0.5 * ((1 + beta) * p1 + (1 - beta) * p2)\n",
    "    c2 = 0.5 * ((1 - beta) * p1 + (1 + beta) * p2)\n",
    "    c1 = np.clip(c1, 0.0, 1.0)\n",
    "    c2 = np.clip(c2, 0.0, 1.0)\n",
    "    off1.chromosome = c1\n",
    "    off2.chromosome = c2\n",
    "    return off1.clone(), off2.clone()"
   ]
  },
  {
   "cell_type": "code",
   "execution_count": 7,
   "metadata": {},
   "outputs": [],
   "source": [
    "\n",
    "# Polynomial mutaion - PM\n",
    "def mutation(indi, eta = 20.0):\n",
    "    chr = indi.chromosome\n",
    "    for i in range(chr.size):\n",
    "        mu = np.random.rand()\n",
    "        if (mu <= 0.5):\n",
    "            delta = (2 * mu)**(1.0/(1 + eta)) - 1\n",
    "            chr[i] = chr[i] + delta * chr[i]\n",
    "        else:\n",
    "            delta = 1 - (2 - 2*mu)**(1.0/(1 + eta))\n",
    "            chr[i] = chr[i] + delta * (1 - chr[i])\n",
    "            \n",
    "    chr = np.clip(chr, 0.0, 1.0)\n",
    "    indi.chromosome = chr\n",
    "    return indi.clone()"
   ]
  },
  {
   "cell_type": "code",
   "execution_count": 8,
   "metadata": {},
   "outputs": [],
   "source": [
    "class Population:\n",
    "    def __init__(self, pop_size, problem : Problem):\n",
    "        self.pop_size = pop_size\n",
    "        self.list_indi = []\n",
    "        self.problem = problem\n",
    "    \n",
    "    def genPop(self):\n",
    "        for i in range(self.pop_size):\n",
    "            indi = Individual()\n",
    "            indi.gen_indi(self.problem)\n",
    "            indi.cal_fitness(self.problem)\n",
    "            self.list_indi.append(indi)\n"
   ]
  },
  {
   "cell_type": "code",
   "execution_count": 9,
   "metadata": {},
   "outputs": [],
   "source": [
    "def selection(list, k = 4):\n",
    "    tour1 = random.sample(list, k)\n",
    "    tour2 = random.sample(list, k)\n",
    "    x = min(tour1)\n",
    "    y = min(tour2)\n",
    "    return x.clone(), y.clone() \n"
   ]
  },
  {
   "cell_type": "code",
   "execution_count": 10,
   "metadata": {},
   "outputs": [],
   "source": [
    "def fast_nodominated_sort(pop: list):\n",
    "    pn = np.zeros(len(pop), dtype=int)\n",
    "    pS = []\n",
    "\n",
    "    for i, p in enumerate(pop):\n",
    "        Q = []\n",
    "        for j, q in enumerate(pop):\n",
    "            if i == j:\n",
    "                continue\n",
    "            if p < q:\n",
    "                pn[j] += 1\n",
    "                Q.append(j)\n",
    "        pS.append(Q)\n",
    "\n",
    "    paretos = [[i for i in range(len(pop)) if pn[i] == 0]]\n",
    "\n",
    "    while True:\n",
    "        next_pareto = []\n",
    "        for i in paretos[-1]:\n",
    "            for j in pS[i]:\n",
    "                pn[j] -= 1\n",
    "                if pn[j] == 0:\n",
    "                    next_pareto.append(j)\n",
    "        if len(next_pareto) == 0:\n",
    "            break\n",
    "        paretos.append(next_pareto)\n",
    "    \n",
    "    return [[pop[idx] for idx in pr] for pr in paretos]\n",
    "    "
   ]
  },
  {
   "cell_type": "code",
   "execution_count": 11,
   "metadata": {},
   "outputs": [],
   "source": [
    "def assign_crowding_distance(pop: list):\n",
    "    if (len(pop) < 3):\n",
    "        return pop\n",
    "    indices = list(range(len(pop)))\n",
    "    I = np.zeros(len(pop), dtype=float)\n",
    "\n",
    "    for k in range(len(pop[0].fitness)):\n",
    "        fk = [p.fitness[k] for p in pop]\n",
    "        indices = np.argsort(fk)\n",
    "\n",
    "        lim = fk[indices[-1]] - fk[indices[0]]\n",
    "        if lim < 1e-4:\n",
    "            return pop\n",
    "        I[indices[0]] = I[indices[-1]] = 1e9\n",
    "\n",
    "        for i in range(1, indices.size - 1):\n",
    "            I[indices[i]] += (fk[indices[i + 1]] - fk[indices[i - 1]]) / lim\n",
    "    \n",
    "    indices = np.argsort(I)\n",
    "    indices.reverse()\n",
    "    new_pop = [pop[i] for i in indices]\n",
    "    return new_pop\n"
   ]
  },
  {
   "cell_type": "code",
   "execution_count": 12,
   "metadata": {},
   "outputs": [],
   "source": [
    "\n",
    "def survival_selection(list, pop_size):\n",
    "    paretos = fast_nodominated_sort(list)\n",
    "    for front in paretos:\n",
    "        front = assign_crowding_distance(front)\n",
    "    next_gen = []\n",
    "    for front in paretos:\n",
    "        for indi in front:\n",
    "            next_gen.append(indi)\n",
    "            pop_size -= 1\n",
    "            if pop_size == 0:\n",
    "                return next_gen\n",
    "    if pop_size != 0:\n",
    "        print(\"Error\")\n",
    "    return next_gen"
   ]
  },
  {
   "cell_type": "code",
   "execution_count": 13,
   "metadata": {},
   "outputs": [],
   "source": [
    "def NSGAII(problem, pop_size, max_gen, p_c, p_m):\n",
    "    pop = Population(pop_size, problem)\n",
    "    pop.genPop()\n",
    "    for i in range(max_gen):\n",
    "        nextPop = []\n",
    "        while (len(nextPop) < pop_size):\n",
    "            p1, p2 = selection(pop.list_indi)\n",
    "            c1 = Individual()\n",
    "            c2 = Individual()\n",
    "            if np.random.rand() <= p_c:\n",
    "                c1, c2 = crossover(p1, p2, problem)\n",
    "                c1.cal_fitness(problem)\n",
    "                c2.cal_fitness(problem)\n",
    "                nextPop.append(c1)\n",
    "                nextPop.append(c2)\n",
    "            if np.random.rand() <= p_m:\n",
    "                p1 = mutation(p1)\n",
    "                p2 = mutation(p2)\n",
    "                p1.cal_fitness(problem)\n",
    "                p2.cal_fitness(problem)\n",
    "                nextPop.append(p1)\n",
    "                nextPop.append(p2)\n",
    "        pop.list_indi = survival_selection(nextPop, pop_size)\n",
    "    paretos = fast_nodominated_sort(pop.list_indi)\n",
    "    pareto_front = list(set(paretos[0]))\n",
    "    return pareto_front"
   ]
  },
  {
   "cell_type": "code",
   "execution_count": 14,
   "metadata": {},
   "outputs": [],
   "source": [
    "# setup\n",
    "profit = np.random.uniform(5.0, 20.0, 10)\n",
    "weight = np.random.uniform(2.0, 20.0, 10)\n",
    "times = np.random.uniform(2.0, 15.0, 10)\n",
    "capacity = np.random.uniform(0.0, np.sum(weight))\n",
    "# profit = np.array([3, 6, 8, 10, 15])\n",
    "# weight = np.array([2, 3, 3, 5, 8])\n",
    "# capacity = 10\n",
    "problem = Problem(profit, times, weight, capacity)\n",
    "\n",
    "pop_size = 200\n",
    "max_gen = 500\n",
    "Pc = 0.8\n",
    "Pm = 0.2\n",
    "\n",
    "#start\n",
    "solution = NSGAII(problem, pop_size, max_gen, Pc, Pm)\n"
   ]
  },
  {
   "cell_type": "code",
   "execution_count": 15,
   "metadata": {},
   "outputs": [
    {
     "data": {
      "image/png": "[encoded data removed]",
      "text/plain": [
       "<Figure size 640x480 with 1 Axes>"
      ]
     },
     "metadata": {},
     "output_type": "display_data"
    }
   ],
   "source": [
    "\n",
    "#show\n",
    "point = np.array([p.fitness for p in solution])\n",
    "x, y = point[:, 0], point[:, 1]\n",
    "\n",
    "plt.scatter(x, y, color='red', marker='o', label=\"Points\")\n",
    "plt.xlabel(\"profit\")\n",
    "plt.ylabel(\"times\")\n",
    "plt.title(\"Pareto front\")\n",
    "plt.legend()\n",
    "plt.grid(True)\n",
    "plt.show()\n"
   ]
  }
 ],
 "metadata": {
  "kernelspec": {
   "display_name": "Python 3",
   "language": "python",
   "name": "python3"
  },
  "language_info": {
   "codemirror_mode": {
    "name": "ipython",
    "version": 3
   },
   "file_extension": ".py",
   "mimetype": "text/x-python",
   "name": "python",
   "nbconvert_exporter": "python",
   "pygments_lexer": "ipython3",
   "version": "3.13.2"
  }
 },
 "nbformat": 4,
 "nbformat_minor": 2
}
