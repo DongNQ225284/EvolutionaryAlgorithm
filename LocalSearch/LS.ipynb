{
 "cells": [
  {
   "cell_type": "markdown",
   "metadata": {},
   "source": [
    "# Local Search\n"
   ]
  },
  {
   "cell_type": "code",
   "execution_count": 11,
   "metadata": {},
   "outputs": [],
   "source": [
    "import numpy as np # type: ignore\n",
    "import matplotlib.pyplot as plt # type: ignore"
   ]
  },
  {
   "cell_type": "code",
   "execution_count": 12,
   "metadata": {},
   "outputs": [],
   "source": [
    "class Problem:\n",
    "    def __init__(self):\n",
    "        pass"
   ]
  },
  {
   "cell_type": "code",
   "execution_count": 13,
   "metadata": {},
   "outputs": [],
   "source": [
    "def decode(position, problem: Problem):\n",
    "    pass\n",
    "\n",
    "def get_fitness(x, problem : Problem):\n",
    "    pass"
   ]
  },
  {
   "cell_type": "code",
   "execution_count": 14,
   "metadata": {},
   "outputs": [],
   "source": [
    "class Individual:\n",
    "    def __init__(self):\n",
    "        self.chromosome = None\n",
    "        self.fitness = None\n",
    "        \n",
    "    def gen_indi(self, problem : Problem):\n",
    "        pass\n",
    "    \n",
    "    def cal_fitness(self, problem : Problem):\n",
    "        sol = decode(self.chromosome, problem)\n",
    "        self.fitness = get_fitness(sol, problem)\n",
    "        \n",
    "    def __repr__(self):\n",
    "        pass"
   ]
  },
  {
   "cell_type": "code",
   "execution_count": 15,
   "metadata": {},
   "outputs": [],
   "source": [
    "def neighbors(indi, delta, problem):\n",
    "    list_indi = []\n",
    "    for i in len(indi.chromosome):\n",
    "        neighbor = Individual()\n",
    "        neighbor.chromosome = indi.chromosome[i] - delta\n",
    "        neighbor.cal_fitness(problem)\n",
    "        list_indi.append(neighbor)\n",
    "    \n",
    "    for i in len(indi.chromosome):\n",
    "        neighbor = Individual()\n",
    "        neighbor.chromosome = indi.chromosome[i] + delta\n",
    "        neighbor.cal_fitness(problem)\n",
    "        list_indi.append(neighbor)\n",
    "\n",
    "    return list_indi"
   ]
  },
  {
   "cell_type": "code",
   "execution_count": 16,
   "metadata": {},
   "outputs": [],
   "source": [
    "def select(list_indi):\n",
    "    return min(list_indi, key=lambda indi: indi.fitness)"
   ]
  },
  {
   "cell_type": "code",
   "execution_count": 17,
   "metadata": {},
   "outputs": [],
   "source": [
    "class Population:\n",
    "    def __init__(self, pop_size, problem : Problem):\n",
    "        self.pop_size = pop_size\n",
    "        self.problem = problem \n",
    "        self.list_indi = []\n",
    "\n",
    "    def gen_pop(self):\n",
    "        for i in range(self.pop_size):\n",
    "            indi = Individual()\n",
    "            indi.gen_indi(self.problem)\n",
    "            indi.cal_fitness(self.problem)\n",
    "            self.list_indi.append(indi)"
   ]
  },
  {
   "cell_type": "code",
   "execution_count": 18,
   "metadata": {},
   "outputs": [],
   "source": [
    "def LS(problem: Problem, pop_size, max_gen, delta):\n",
    "    pop = Population(pop_size, problem)\n",
    "    pop.gen_pop()\n",
    "    history = []\n",
    "    best = Individual()\n",
    "    for i in range(max_gen):\n",
    "        best = min(pop.list_indi, key=lambda indi: indi.fitness)\n",
    "        history.append(best.fitness)\n",
    "        for indi in pop.list_indi:\n",
    "            list_indi = neighbors(indi, delta, problem)\n",
    "            indi = select(list_indi)       \n",
    "    return history, best"
   ]
  },
  {
   "cell_type": "code",
   "execution_count": 19,
   "metadata": {},
   "outputs": [
    {
     "ename": "TypeError",
     "evalue": "'<' not supported between instances of 'NoneType' and 'NoneType'",
     "output_type": "error",
     "traceback": [
      "\u001b[31m---------------------------------------------------------------------------\u001b[39m",
      "\u001b[31mTypeError\u001b[39m                                 Traceback (most recent call last)",
      "\u001b[36mCell\u001b[39m\u001b[36m \u001b[39m\u001b[32mIn[19]\u001b[39m\u001b[32m, line 7\u001b[39m\n\u001b[32m      4\u001b[39m max_gen = \u001b[32m500\u001b[39m\n\u001b[32m      5\u001b[39m delta = \u001b[32m0.001\u001b[39m\n\u001b[32m----> \u001b[39m\u001b[32m7\u001b[39m fitness_history, solution = \u001b[43mLS\u001b[49m\u001b[43m(\u001b[49m\u001b[43mproblem\u001b[49m\u001b[43m,\u001b[49m\u001b[43m \u001b[49m\u001b[43mpop_size\u001b[49m\u001b[43m,\u001b[49m\u001b[43m \u001b[49m\u001b[43mmax_gen\u001b[49m\u001b[43m,\u001b[49m\u001b[43m \u001b[49m\u001b[43mdelta\u001b[49m\u001b[43m)\u001b[49m\n\u001b[32m      9\u001b[39m \u001b[38;5;66;03m#show\u001b[39;00m\n\u001b[32m     10\u001b[39m \u001b[38;5;28;01mfor\u001b[39;00m i \u001b[38;5;129;01min\u001b[39;00m \u001b[38;5;28mrange\u001b[39m(\u001b[38;5;28mlen\u001b[39m(fitness_history)):\n",
      "\u001b[36mCell\u001b[39m\u001b[36m \u001b[39m\u001b[32mIn[18]\u001b[39m\u001b[32m, line 7\u001b[39m, in \u001b[36mLS\u001b[39m\u001b[34m(problem, pop_size, max_gen, delta)\u001b[39m\n\u001b[32m      5\u001b[39m best = Individual()\n\u001b[32m      6\u001b[39m \u001b[38;5;28;01mfor\u001b[39;00m i \u001b[38;5;129;01min\u001b[39;00m \u001b[38;5;28mrange\u001b[39m(max_gen):\n\u001b[32m----> \u001b[39m\u001b[32m7\u001b[39m     best = \u001b[38;5;28;43mmin\u001b[39;49m\u001b[43m(\u001b[49m\u001b[43mpop\u001b[49m\u001b[43m.\u001b[49m\u001b[43mlist_indi\u001b[49m\u001b[43m,\u001b[49m\u001b[43m \u001b[49m\u001b[43mkey\u001b[49m\u001b[43m=\u001b[49m\u001b[38;5;28;43;01mlambda\u001b[39;49;00m\u001b[43m \u001b[49m\u001b[43mindi\u001b[49m\u001b[43m:\u001b[49m\u001b[43m \u001b[49m\u001b[43mindi\u001b[49m\u001b[43m.\u001b[49m\u001b[43mfitness\u001b[49m\u001b[43m)\u001b[49m\n\u001b[32m      8\u001b[39m     history.append(best.fitness)\n\u001b[32m      9\u001b[39m     \u001b[38;5;28;01mfor\u001b[39;00m indi \u001b[38;5;129;01min\u001b[39;00m pop.list_indi:\n",
      "\u001b[31mTypeError\u001b[39m: '<' not supported between instances of 'NoneType' and 'NoneType'"
     ]
    }
   ],
   "source": [
    "#setup\n",
    "problem = Problem()\n",
    "pop_size = 10\n",
    "max_gen = 500\n",
    "delta = 0.001\n",
    "\n",
    "fitness_history, solution = LS(problem, pop_size, max_gen, delta)\n",
    "\n",
    "#show\n",
    "for i in range(len(fitness_history)):\n",
    "    print(f\"Generation {i}, bestfitness = {fitness_history[i]:.2f}\")"
   ]
  },
  {
   "cell_type": "code",
   "execution_count": null,
   "metadata": {},
   "outputs": [],
   "source": [
    "generations = list(range(len(fitness_history)))\n",
    "plt.figure(figsize=(10, 5))\n",
    "plt.plot(generations, fitness_history, marker='o', linestyle='-', color='b', label='Best Fitness')\n",
    "\n",
    "plt.xlabel(\"Generation\")\n",
    "plt.ylabel(\"Best Fitness\")\n",
    "plt.title(\"Fitness Progress Over Generations\")\n",
    "plt.legend()\n",
    "plt.grid(True)\n",
    "plt.show()"
   ]
  }
 ],
 "metadata": {
  "kernelspec": {
   "display_name": "Python 3",
   "language": "python",
   "name": "python3"
  },
  "language_info": {
   "codemirror_mode": {
    "name": "ipython",
    "version": 3
   },
   "file_extension": ".py",
   "mimetype": "text/x-python",
   "name": "python",
   "nbconvert_exporter": "python",
   "pygments_lexer": "ipython3",
   "version": "3.13.2"
  }
 },
 "nbformat": 4,
 "nbformat_minor": 2
}
